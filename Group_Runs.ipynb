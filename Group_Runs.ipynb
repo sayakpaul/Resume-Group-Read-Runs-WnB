{
 "cells": [
  {
   "cell_type": "code",
   "execution_count": 1,
   "metadata": {},
   "outputs": [],
   "source": [
    "from tensorflow.keras.layers import Conv2D, MaxPooling2D, Dropout, Dense, Flatten\n",
    "from tensorflow.keras.datasets import fashion_mnist\n",
    "from tensorflow.keras.models import Sequential\n",
    "from tensorflow.keras.optimizers import SGD\n",
    "from tensorflow.keras.models import load_model\n",
    "from tensorflow.keras import utils\n",
    "from wandb.keras import WandbCallback\n",
    "import wandb"
   ]
  },
  {
   "cell_type": "code",
   "execution_count": 2,
   "metadata": {},
   "outputs": [
    {
     "data": {
      "text/html": [
       "\n",
       "                Logging results to <a href=\"https://wandb.com\" target=\"_blank\">Weights & Biases</a> <a href=\"https://docs.wandb.com/integrations/jupyter.html\" target=\"_blank\">(Documentation)</a>.<br/>\n",
       "                Project page: <a href=\"https://app.wandb.ai/sayakpaul/resume-read-group-runs\" target=\"_blank\">https://app.wandb.ai/sayakpaul/resume-read-group-runs</a><br/>\n",
       "                Run page: <a href=\"https://app.wandb.ai/sayakpaul/resume-read-group-runs/runs/eicrb4ri\" target=\"_blank\">https://app.wandb.ai/sayakpaul/resume-read-group-runs/runs/eicrb4ri</a><br/>\n",
       "            "
      ],
      "text/plain": [
       "<IPython.core.display.HTML object>"
      ]
     },
     "metadata": {},
     "output_type": "display_data"
    }
   ],
   "source": [
    "wandb.init(project=\"resume-read-group-runs\", name=\"group_runs\", group=\"learn_rate\")\n",
    "config = wandb.config"
   ]
  },
  {
   "cell_type": "code",
   "execution_count": 3,
   "metadata": {},
   "outputs": [],
   "source": [
    "config.dropout = 0.2\n",
    "config.hidden_layer_size = 128\n",
    "config.layer_1_size  = 16\n",
    "config.layer_2_size = 32\n",
    "config.learn_rate = 0.01"
   ]
  },
  {
   "cell_type": "code",
   "execution_count": 4,
   "metadata": {},
   "outputs": [],
   "source": [
    "(X_train, y_train), (X_test, y_test) = fashion_mnist.load_data()\n",
    "labels=[\"T-shirt/top\",\"Trouser\",\"Pullover\",\"Dress\",\"Coat\",\n",
    "        \"Sandal\",\"Shirt\",\"Sneaker\",\"Bag\",\"Ankle boot\"]\n",
    "\n",
    "img_width=28\n",
    "img_height=28\n",
    "\n",
    "X_train = X_train.astype('float32')\n",
    "X_train /= 255.\n",
    "X_test = X_test.astype('float32')\n",
    "X_test /= 255.\n",
    "\n",
    "#reshape input data\n",
    "X_train = X_train.reshape(X_train.shape[0], img_width, img_height, 1)\n",
    "X_test = X_test.reshape(X_test.shape[0], img_width, img_height, 1)\n",
    "\n",
    "# one hot encode outputs\n",
    "y_train = utils.to_categorical(y_train)\n",
    "y_test = utils.to_categorical(y_test)\n",
    "num_classes = y_test.shape[1]"
   ]
  },
  {
   "cell_type": "code",
   "execution_count": 5,
   "metadata": {},
   "outputs": [],
   "source": [
    "# Build and compile model\n",
    "def get_trainable_model():\n",
    "    model = Sequential()\n",
    "    model.add(Conv2D(config.layer_1_size, (5, 5), activation='relu',\n",
    "                                input_shape=(img_width, img_height,1)))\n",
    "    model.add(MaxPooling2D(pool_size=(2, 2)))\n",
    "    model.add(Conv2D(config.layer_2_size, (5, 5), activation='relu'))\n",
    "    model.add(MaxPooling2D(pool_size=(2, 2)))\n",
    "    model.add(Dropout(config.dropout))\n",
    "    model.add(Flatten())\n",
    "    model.add(Dense(config.hidden_layer_size, activation='relu'))\n",
    "    model.add(Dense(num_classes, activation='softmax'))\n",
    "\n",
    "    model.compile(loss='categorical_crossentropy', optimizer=\"adam\", metrics=['accuracy'])\n",
    "    \n",
    "    return model"
   ]
  },
  {
   "cell_type": "code",
   "execution_count": 6,
   "metadata": {},
   "outputs": [
    {
     "name": "stdout",
     "output_type": "stream",
     "text": [
      "Train on 60000 samples, validate on 10000 samples\n",
      "Epoch 1/25\n",
      "60000/60000 [==============================] - 13s 217us/sample - loss: 0.5113 - accuracy: 0.8142 - val_loss: 0.3667 - val_accuracy: 0.8659\n",
      "Epoch 2/25\n",
      "60000/60000 [==============================] - 11s 181us/sample - loss: 0.3503 - accuracy: 0.8717 - val_loss: 0.3219 - val_accuracy: 0.8815\n",
      "Epoch 3/25\n",
      "60000/60000 [==============================] - 11s 180us/sample - loss: 0.3079 - accuracy: 0.8873 - val_loss: 0.3201 - val_accuracy: 0.8827\n",
      "Epoch 4/25\n",
      "60000/60000 [==============================] - 11s 179us/sample - loss: 0.2859 - accuracy: 0.8951 - val_loss: 0.2845 - val_accuracy: 0.8960\n",
      "Epoch 5/25\n",
      "60000/60000 [==============================] - 11s 179us/sample - loss: 0.2666 - accuracy: 0.9004 - val_loss: 0.2845 - val_accuracy: 0.8947\n",
      "Epoch 6/25\n",
      "60000/60000 [==============================] - 11s 179us/sample - loss: 0.2510 - accuracy: 0.9068 - val_loss: 0.2739 - val_accuracy: 0.8996\n",
      "Epoch 7/25\n",
      "60000/60000 [==============================] - 11s 183us/sample - loss: 0.2367 - accuracy: 0.9106 - val_loss: 0.2814 - val_accuracy: 0.8953\n",
      "Epoch 8/25\n",
      "60000/60000 [==============================] - 11s 190us/sample - loss: 0.2263 - accuracy: 0.9143 - val_loss: 0.2586 - val_accuracy: 0.9100\n",
      "Epoch 9/25\n",
      "60000/60000 [==============================] - 11s 181us/sample - loss: 0.2172 - accuracy: 0.9190 - val_loss: 0.2672 - val_accuracy: 0.9060\n",
      "Epoch 10/25\n",
      "60000/60000 [==============================] - 11s 179us/sample - loss: 0.2083 - accuracy: 0.9202 - val_loss: 0.2638 - val_accuracy: 0.9033\n",
      "Epoch 11/25\n",
      "60000/60000 [==============================] - 11s 179us/sample - loss: 0.2003 - accuracy: 0.9250 - val_loss: 0.2676 - val_accuracy: 0.9038\n",
      "Epoch 12/25\n",
      "60000/60000 [==============================] - 11s 180us/sample - loss: 0.1921 - accuracy: 0.9263 - val_loss: 0.2569 - val_accuracy: 0.9095\n",
      "Epoch 13/25\n",
      "60000/60000 [==============================] - 12s 194us/sample - loss: 0.1870 - accuracy: 0.9287 - val_loss: 0.2565 - val_accuracy: 0.9140\n",
      "Epoch 14/25\n",
      "60000/60000 [==============================] - 11s 186us/sample - loss: 0.1801 - accuracy: 0.9313 - val_loss: 0.2839 - val_accuracy: 0.9009\n",
      "Epoch 15/25\n",
      "60000/60000 [==============================] - 11s 179us/sample - loss: 0.1727 - accuracy: 0.9333 - val_loss: 0.2678 - val_accuracy: 0.9081\n",
      "Epoch 16/25\n",
      "60000/60000 [==============================] - 11s 179us/sample - loss: 0.1662 - accuracy: 0.9367 - val_loss: 0.2657 - val_accuracy: 0.9066\n",
      "Epoch 17/25\n",
      "60000/60000 [==============================] - 11s 180us/sample - loss: 0.1628 - accuracy: 0.9378 - val_loss: 0.2715 - val_accuracy: 0.9070\n",
      "Epoch 18/25\n",
      "60000/60000 [==============================] - 11s 179us/sample - loss: 0.1594 - accuracy: 0.9392 - val_loss: 0.2733 - val_accuracy: 0.9085\n",
      "Epoch 19/25\n",
      "60000/60000 [==============================] - 11s 178us/sample - loss: 0.1557 - accuracy: 0.9399 - val_loss: 0.2790 - val_accuracy: 0.9071\n",
      "Epoch 20/25\n",
      "60000/60000 [==============================] - 11s 178us/sample - loss: 0.1504 - accuracy: 0.9432 - val_loss: 0.2821 - val_accuracy: 0.9060\n",
      "Epoch 21/25\n",
      "60000/60000 [==============================] - 11s 179us/sample - loss: 0.1491 - accuracy: 0.9435 - val_loss: 0.2712 - val_accuracy: 0.9064\n",
      "Epoch 22/25\n",
      "60000/60000 [==============================] - 11s 178us/sample - loss: 0.1415 - accuracy: 0.9459 - val_loss: 0.2763 - val_accuracy: 0.9114\n",
      "Epoch 23/25\n",
      "60000/60000 [==============================] - 11s 179us/sample - loss: 0.1388 - accuracy: 0.9467 - val_loss: 0.2784 - val_accuracy: 0.9103\n",
      "Epoch 24/25\n",
      "60000/60000 [==============================] - 11s 179us/sample - loss: 0.1367 - accuracy: 0.9483 - val_loss: 0.2834 - val_accuracy: 0.9076\n",
      "Epoch 25/25\n",
      "60000/60000 [==============================] - 11s 179us/sample - loss: 0.1325 - accuracy: 0.9493 - val_loss: 0.3005 - val_accuracy: 0.9060\n"
     ]
    },
    {
     "data": {
      "text/plain": [
       "<tensorflow.python.keras.callbacks.History at 0x7f93a111e978>"
      ]
     },
     "execution_count": 6,
     "metadata": {},
     "output_type": "execute_result"
    }
   ],
   "source": [
    "model = get_trainable_model()\n",
    "model.fit(X_train, y_train,  validation_data=(X_test, y_test), \n",
    "          epochs=25, initial_epoch=wandb.run.step,\n",
    "          callbacks=[WandbCallback(data_type=\"image\", labels=labels, save_model=True)])"
   ]
  }
 ],
 "metadata": {
  "kernelspec": {
   "display_name": "Python 3",
   "language": "python",
   "name": "python3"
  },
  "language_info": {
   "codemirror_mode": {
    "name": "ipython",
    "version": 3
   },
   "file_extension": ".py",
   "mimetype": "text/x-python",
   "name": "python",
   "nbconvert_exporter": "python",
   "pygments_lexer": "ipython3",
   "version": "3.5.3"
  }
 },
 "nbformat": 4,
 "nbformat_minor": 4
}
