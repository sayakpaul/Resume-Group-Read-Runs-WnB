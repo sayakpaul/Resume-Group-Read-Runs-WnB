{
  "nbformat": 4,
  "nbformat_minor": 0,
  "metadata": {
    "colab": {
      "name": "Reading stuff from W&B dashboard.ipynb",
      "provenance": [],
      "collapsed_sections": []
    },
    "kernelspec": {
      "name": "python3",
      "display_name": "Python 3"
    },
    "accelerator": "GPU"
  },
  "cells": [
    {
      "cell_type": "code",
      "metadata": {
        "id": "3XbWDNWg1g6O",
        "colab_type": "code",
        "colab": {}
      },
      "source": [
        "# WandB – Install the W&B library\n",
        "%pip install wandb -q\n",
        "import wandb"
      ],
      "execution_count": 0,
      "outputs": []
    },
    {
      "cell_type": "code",
      "metadata": {
        "id": "Dim_nDwK10IP",
        "colab_type": "code",
        "colab": {}
      },
      "source": [
        "# Authorize yourself\n",
        "!wandb login"
      ],
      "execution_count": 0,
      "outputs": []
    },
    {
      "cell_type": "code",
      "metadata": {
        "id": "gNP5hCbH2K2H",
        "colab_type": "code",
        "colab": {}
      },
      "source": [
        "# Load the desired run\n",
        "api = wandb.Api()\n",
        "#<entity_name>/<project_name>/<run_name>\n",
        "run = api.run(\"sayakpaul/arxiv-project-complex-models/6t93vdp7\")"
      ],
      "execution_count": 0,
      "outputs": []
    },
    {
      "cell_type": "code",
      "metadata": {
        "id": "Z1xIqf1m4IPR",
        "colab_type": "code",
        "outputId": "9660c98a-2a4a-46f4-af23-5c00e0ea5b1f",
        "colab": {
          "base_uri": "https://localhost:8080/",
          "height": 170
        }
      },
      "source": [
        "# Print the configuration variables of the run\n",
        "run.config"
      ],
      "execution_count": 0,
      "outputs": [
        {
          "output_type": "execute_result",
          "data": {
            "text/plain": [
              "{'batch_size': 32,\n",
              " 'embedding_dims': 30,\n",
              " 'epochs': 10,\n",
              " 'filter_length': 300,\n",
              " 'filters': 10,\n",
              " 'hidden_dims': 10,\n",
              " 'kernel_size': 3,\n",
              " 'max_words': 3000,\n",
              " 'maxlen': 300}"
            ]
          },
          "metadata": {
            "tags": []
          },
          "execution_count": 13
        }
      ]
    },
    {
      "cell_type": "code",
      "metadata": {
        "id": "DKbW6ebJ4Ors",
        "colab_type": "code",
        "outputId": "2c37b0f2-e057-4b93-fe33-46d80ad39177",
        "colab": {
          "base_uri": "https://localhost:8080/",
          "height": 88
        }
      },
      "source": [
        "# You get a summary of multiple runs residing in the specified project\n",
        "runs = api.runs(\"sayakpaul/arxiv-project-complex-models\")\n",
        "for run in runs:\n",
        "    print(run.summary)"
      ],
      "execution_count": 0,
      "outputs": [
        {
          "output_type": "stream",
          "text": [
            "{'lr': 0.0010000000474974513, 'loss': 0.07333995502145821, '_step': 9, 'epoch': 9, 'graph': {}, '_runtime': 3574.3130424022675, 'val_loss': 0.08366621996558041, '_timestamp': 1572585882.6170623, 'categorical_accuracy': 0.7314751744270325, 'val_categorical_accuracy': 0.6961008906364441}\n",
            "{'lr': 0.0010000000474974513, 'loss': 0.10466069435886911, '_step': 9, 'epoch': 9, '_runtime': 2644.58083987236, 'val_loss': 0.10692148343503292, '_timestamp': 1572581485.8455746, 'categorical_accuracy': 0.5526427626609802, 'val_categorical_accuracy': 0.5787461996078491}\n",
            "{'lr': 0.0010000000474974513, 'loss': 0.058856973633484154, '_step': 6, 'epoch': 6, 'graph': {}, '_runtime': 35.20579290390015, 'val_loss': 0.07733297384477901, '_timestamp': 1572578612.119595, 'categorical_accuracy': 0.7465159893035889, 'val_categorical_accuracy': 0.6953364014625549}\n"
          ],
          "name": "stdout"
        }
      ]
    },
    {
      "cell_type": "code",
      "metadata": {
        "id": "gZavbn0p8Gg4",
        "colab_type": "code",
        "outputId": "b79fdab4-b4bf-4134-c49c-93176796bb82",
        "colab": {
          "base_uri": "https://localhost:8080/",
          "height": 359
        }
      },
      "source": [
        "# Read the metrics associated with a run along with other things\n",
        "api = wandb.Api()\n",
        "run = api.run(\"sayakpaul/arxiv-project-complex-models/6t93vdp7\")\n",
        "run.history()"
      ],
      "execution_count": 0,
      "outputs": [
        {
          "output_type": "execute_result",
          "data": {
            "text/html": [
              "<div>\n",
              "<style scoped>\n",
              "    .dataframe tbody tr th:only-of-type {\n",
              "        vertical-align: middle;\n",
              "    }\n",
              "\n",
              "    .dataframe tbody tr th {\n",
              "        vertical-align: top;\n",
              "    }\n",
              "\n",
              "    .dataframe thead th {\n",
              "        text-align: right;\n",
              "    }\n",
              "</style>\n",
              "<table border=\"1\" class=\"dataframe\">\n",
              "  <thead>\n",
              "    <tr style=\"text-align: right;\">\n",
              "      <th></th>\n",
              "      <th>_step</th>\n",
              "      <th>loss</th>\n",
              "      <th>_runtime</th>\n",
              "      <th>val_categorical_accuracy</th>\n",
              "      <th>lr</th>\n",
              "      <th>epoch</th>\n",
              "      <th>categorical_accuracy</th>\n",
              "      <th>_timestamp</th>\n",
              "      <th>val_loss</th>\n",
              "    </tr>\n",
              "  </thead>\n",
              "  <tbody>\n",
              "    <tr>\n",
              "      <th>0</th>\n",
              "      <td>0</td>\n",
              "      <td>0.200416</td>\n",
              "      <td>365.592501</td>\n",
              "      <td>0.350535</td>\n",
              "      <td>0.001</td>\n",
              "      <td>0</td>\n",
              "      <td>0.288749</td>\n",
              "      <td>1.572583e+09</td>\n",
              "      <td>0.124706</td>\n",
              "    </tr>\n",
              "    <tr>\n",
              "      <th>1</th>\n",
              "      <td>1</td>\n",
              "      <td>0.120716</td>\n",
              "      <td>720.869460</td>\n",
              "      <td>0.350535</td>\n",
              "      <td>0.001</td>\n",
              "      <td>1</td>\n",
              "      <td>0.350909</td>\n",
              "      <td>1.572583e+09</td>\n",
              "      <td>0.123354</td>\n",
              "    </tr>\n",
              "    <tr>\n",
              "      <th>2</th>\n",
              "      <td>2</td>\n",
              "      <td>0.119409</td>\n",
              "      <td>1075.281796</td>\n",
              "      <td>0.394878</td>\n",
              "      <td>0.001</td>\n",
              "      <td>2</td>\n",
              "      <td>0.355158</td>\n",
              "      <td>1.572583e+09</td>\n",
              "      <td>0.120668</td>\n",
              "    </tr>\n",
              "    <tr>\n",
              "      <th>3</th>\n",
              "      <td>3</td>\n",
              "      <td>0.113393</td>\n",
              "      <td>1428.953393</td>\n",
              "      <td>0.502294</td>\n",
              "      <td>0.001</td>\n",
              "      <td>3</td>\n",
              "      <td>0.453263</td>\n",
              "      <td>1.572584e+09</td>\n",
              "      <td>0.112146</td>\n",
              "    </tr>\n",
              "    <tr>\n",
              "      <th>4</th>\n",
              "      <td>4</td>\n",
              "      <td>0.102439</td>\n",
              "      <td>1781.784683</td>\n",
              "      <td>0.583716</td>\n",
              "      <td>0.001</td>\n",
              "      <td>4</td>\n",
              "      <td>0.550178</td>\n",
              "      <td>1.572584e+09</td>\n",
              "      <td>0.101087</td>\n",
              "    </tr>\n",
              "    <tr>\n",
              "      <th>5</th>\n",
              "      <td>5</td>\n",
              "      <td>0.091353</td>\n",
              "      <td>2148.548762</td>\n",
              "      <td>0.654052</td>\n",
              "      <td>0.001</td>\n",
              "      <td>5</td>\n",
              "      <td>0.637449</td>\n",
              "      <td>1.572584e+09</td>\n",
              "      <td>0.092502</td>\n",
              "    </tr>\n",
              "    <tr>\n",
              "      <th>6</th>\n",
              "      <td>6</td>\n",
              "      <td>0.083850</td>\n",
              "      <td>2509.832377</td>\n",
              "      <td>0.675459</td>\n",
              "      <td>0.001</td>\n",
              "      <td>6</td>\n",
              "      <td>0.685333</td>\n",
              "      <td>1.572585e+09</td>\n",
              "      <td>0.087929</td>\n",
              "    </tr>\n",
              "    <tr>\n",
              "      <th>7</th>\n",
              "      <td>7</td>\n",
              "      <td>0.079008</td>\n",
              "      <td>2864.809725</td>\n",
              "      <td>0.691131</td>\n",
              "      <td>0.001</td>\n",
              "      <td>7</td>\n",
              "      <td>0.710911</td>\n",
              "      <td>1.572585e+09</td>\n",
              "      <td>0.085605</td>\n",
              "    </tr>\n",
              "    <tr>\n",
              "      <th>8</th>\n",
              "      <td>8</td>\n",
              "      <td>0.075734</td>\n",
              "      <td>3219.882020</td>\n",
              "      <td>0.694954</td>\n",
              "      <td>0.001</td>\n",
              "      <td>8</td>\n",
              "      <td>0.723360</td>\n",
              "      <td>1.572586e+09</td>\n",
              "      <td>0.084215</td>\n",
              "    </tr>\n",
              "    <tr>\n",
              "      <th>9</th>\n",
              "      <td>9</td>\n",
              "      <td>0.073340</td>\n",
              "      <td>3574.313042</td>\n",
              "      <td>0.696101</td>\n",
              "      <td>0.001</td>\n",
              "      <td>9</td>\n",
              "      <td>0.731475</td>\n",
              "      <td>1.572586e+09</td>\n",
              "      <td>0.083666</td>\n",
              "    </tr>\n",
              "  </tbody>\n",
              "</table>\n",
              "</div>"
            ],
            "text/plain": [
              "   _step      loss     _runtime  ...  categorical_accuracy    _timestamp  val_loss\n",
              "0      0  0.200416   365.592501  ...              0.288749  1.572583e+09  0.124706\n",
              "1      1  0.120716   720.869460  ...              0.350909  1.572583e+09  0.123354\n",
              "2      2  0.119409  1075.281796  ...              0.355158  1.572583e+09  0.120668\n",
              "3      3  0.113393  1428.953393  ...              0.453263  1.572584e+09  0.112146\n",
              "4      4  0.102439  1781.784683  ...              0.550178  1.572584e+09  0.101087\n",
              "5      5  0.091353  2148.548762  ...              0.637449  1.572584e+09  0.092502\n",
              "6      6  0.083850  2509.832377  ...              0.685333  1.572585e+09  0.087929\n",
              "7      7  0.079008  2864.809725  ...              0.710911  1.572585e+09  0.085605\n",
              "8      8  0.075734  3219.882020  ...              0.723360  1.572586e+09  0.084215\n",
              "9      9  0.073340  3574.313042  ...              0.731475  1.572586e+09  0.083666\n",
              "\n",
              "[10 rows x 9 columns]"
            ]
          },
          "metadata": {
            "tags": []
          },
          "execution_count": 20
        }
      ]
    },
    {
      "cell_type": "code",
      "metadata": {
        "id": "khWxrODQ8HIJ",
        "colab_type": "code",
        "outputId": "0d344c1f-bea2-43a9-9931-7af975336b3b",
        "colab": {
          "base_uri": "https://localhost:8080/",
          "height": 119
        }
      },
      "source": [
        "# You can display the files associated with a run\n",
        "run = api.run(\"sayakpaul/arxiv-project-complex-models/ikgi2m8b\")\n",
        "for file in run.files():\n",
        "    print(file)"
      ],
      "execution_count": 0,
      "outputs": [
        {
          "output_type": "stream",
          "text": [
            "<File config.yaml ()>\n",
            "<File diff.patch (text/plain)>\n",
            "<File model-best.h5 (application/keras)>\n",
            "<File requirements.txt (text/plain; charset=utf-8)>\n",
            "<File wandb-metadata.json (application/json)>\n",
            "<File wandb-summary.json (application/json)>\n"
          ],
          "name": "stdout"
        }
      ]
    },
    {
      "cell_type": "markdown",
      "metadata": {
        "id": "o8GE5BRe-KLQ",
        "colab_type": "text"
      },
      "source": [
        "To know about the full potential of WandB's `API` check out the official documentation: https://docs.wandb.com/library/api. "
      ]
    }
  ]
}